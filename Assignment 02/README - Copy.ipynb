{
 "cells": [
  {
   "cell_type": "markdown",
   "metadata": {},
   "source": [
    "This hand in includes to files of codes and some csv files. The \"Assignment_02_Final_Optimization Model\" includes the unit commitment problem, that was run for 1000 samples. It was originally solved for 1000 samples, the result of this was saved as \"results1000\" and \"unitcomitment1000\". \n",
    "The code in \"Assignment_02_Final_Optimization Model\" can be executed again, the new results will be saved under \"resultsopti\" and \"unitcomitmentopti\".\n",
    "The output of the unit commitment problem is used in the \"Assignment_02_Final_Classification\" Model. This model includes all the classification models and the testing of the results. By default the results1000 will be used, if you want to create your own target data, you first need to run the \"Assignment_02_Final_Optimization Model\" and uncomment the line in the second cell that loads the new results from the optimization model."
   ]
  }
 ],
 "metadata": {
  "kernelspec": {
   "display_name": "Python 3",
   "language": "python",
   "name": "python3"
  },
  "language_info": {
   "codemirror_mode": {
    "name": "ipython",
    "version": 3
   },
   "file_extension": ".py",
   "mimetype": "text/x-python",
   "name": "python",
   "nbconvert_exporter": "python",
   "pygments_lexer": "ipython3",
   "version": "3.11.9"
  }
 },
 "nbformat": 4,
 "nbformat_minor": 2
}
