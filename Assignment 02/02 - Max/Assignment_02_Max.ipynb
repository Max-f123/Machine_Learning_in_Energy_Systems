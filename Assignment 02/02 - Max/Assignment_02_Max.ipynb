{
 "cells": [
  {
   "cell_type": "code",
   "execution_count": 1,
   "metadata": {},
   "outputs": [],
   "source": [
    "import numpy as np\n",
    "import pandas as pd\n",
    "import matplotlib.pyplot as plt\n",
    "import seaborn as sns"
   ]
  },
  {
   "cell_type": "code",
   "execution_count": 20,
   "metadata": {},
   "outputs": [],
   "source": [
    "# Load the data from the data folder\n",
    "bus = pd.read_csv('../Data/B (power transfer factor of each bus to each line).csv')\n",
    "w_capacity = pd.read_csv('../Data/Capacity of wind farms.csv')\n",
    "loads = pd.read_csv('../Data/Loads.csv')\n",
    "max_prod = pd.read_csv('../Data/Maximum production of generating units.csv')\n",
    "min_prod = pd.read_csv('../Data/Minimum production of generating units.csv')\n",
    "min_down_time = pd.read_csv('../Data/Minimum down time of generating units.csv')\n",
    "min_up_time = pd.read_csv('../Data/Minimum up time of generating units.csv')\n",
    "prod_cost = pd.read_csv('../Data/Production cost of generating units.csv')\n",
    "ramp_rate = pd.read_csv('../Data/Ramping rate of generating units.csv')\n",
    "start_up_cost = pd.read_csv('../Data/Start-up cost of generating units.csv')\n",
    "transmission_cap = pd.read_csv('../Data/Transmission capacity of lines.csv')\n"
   ]
  },
  {
   "cell_type": "code",
   "execution_count": null,
   "metadata": {},
   "outputs": [],
   "source": []
  }
 ],
 "metadata": {
  "kernelspec": {
   "display_name": "my_environment",
   "language": "python",
   "name": "python3"
  },
  "language_info": {
   "codemirror_mode": {
    "name": "ipython",
    "version": 3
   },
   "file_extension": ".py",
   "mimetype": "text/x-python",
   "name": "python",
   "nbconvert_exporter": "python",
   "pygments_lexer": "ipython3",
   "version": "3.11.5"
  }
 },
 "nbformat": 4,
 "nbformat_minor": 2
}
