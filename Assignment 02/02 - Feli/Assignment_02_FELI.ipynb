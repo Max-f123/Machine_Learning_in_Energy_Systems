{
 "cells": [
  {
   "cell_type": "code",
   "metadata": {
    "ExecuteTime": {
     "end_time": "2024-11-12T11:37:58.681464Z",
     "start_time": "2024-11-12T11:37:58.659240Z"
    }
   },
   "source": [
    "import numpy as np\n",
    "import pandas as pd\n",
    "import matplotlib.pyplot as plt\n",
    "import seaborn as sns\n",
    "import gurobipy as gp\n",
    "from gurobipy import GRB"
   ],
   "outputs": [],
   "execution_count": 30
  },
  {
   "metadata": {},
   "cell_type": "markdown",
   "source": ""
  },
  {
   "cell_type": "markdown",
   "metadata": {},
   "source": [
    "## Task 1] Build the optimisation model"
   ]
  },
  {
   "cell_type": "code",
   "metadata": {
    "ExecuteTime": {
     "end_time": "2024-11-12T11:37:58.900509Z",
     "start_time": "2024-11-12T11:37:58.812872Z"
    }
   },
   "source": [
    "# Load the data from the data folder\n",
    "wind_forecast = pd.read_csv('../Data/1.Wind forecast profile.csv', delimiter=';') # Made up data\n",
    "load = pd.read_csv('../Data/1.Load profile.csv', delimiter=';')\n",
    "bus = pd.read_csv('../Data/B (power transfer factor of each bus to each line).csv', delimiter=';')\n",
    "max_prod = pd.read_csv('../Data/Maximum production of generating units.csv', delimiter=';')\n",
    "min_prod = pd.read_csv('../Data/Minimum production of generating units.csv', delimiter=';')\n",
    "min_down_time = pd.read_csv('../Data/Minimum down time of generating units.csv', delimiter=';')\n",
    "min_up_time = pd.read_csv('../Data/Minimum up time of generating units.csv', delimiter=';')\n",
    "prod_cost = pd.read_csv('../Data/Production cost of generating units.csv', delimiter=';')\n",
    "ramp_rate = pd.read_csv('../Data/Ramping rate of generating units.csv', delimiter=';')\n",
    "start_up_cost = pd.read_csv('../Data/Start-up cost of generating units.csv', delimiter=';')\n",
    "transmission_cap = pd.read_csv('../Data/Transmission capacity of lines.csv', delimiter=';')\n",
    "samples = pd.read_csv('../Data/sample_simon.csv', delimiter=',')\n",
    "# Overwrite the load DataFrame with selected columns from samples\n",
    "load = samples[['Sample_Nr', 'Hour', 'L1', 'L2', 'L3']]\n",
    "\n",
    "# Overwrite the wind_forecast DataFrame with selected columns from samples\n",
    "wind_forecast = samples[['Sample_Nr', 'Hour', 'W1', 'W2']]\n"
   ],
   "outputs": [],
   "execution_count": 31
  },
  {
   "cell_type": "code",
   "metadata": {
    "ExecuteTime": {
     "end_time": "2024-11-12T11:37:58.930553Z",
     "start_time": "2024-11-12T11:37:58.905509Z"
    }
   },
   "source": [
    "Nodes = ['Node 1', 'Node 2', 'Node 3', 'Node 4', 'Node 5', 'Node 6']\n",
    "Generator = ['G1', 'G2', 'G3']\n",
    "Generator_node = {'Node 1': 'G1', 'Node 2': 'G2', 'Node 6': 'G3'}\n",
    "Load = ['L1', 'L2', 'L3']\n",
    "Load_node = {'Node 4': 'L1', 'Node 5': 'L2', 'Node 6': 'L3'}\n",
    "Wind = ['W1', 'W2']\n",
    "Wind_node = {'Node 4': 'W1', 'Node 5': 'W2'}"
   ],
   "outputs": [],
   "execution_count": 32
  },
  {
   "cell_type": "code",
   "metadata": {
    "ExecuteTime": {
     "end_time": "2024-11-12T11:37:58.962140Z",
     "start_time": "2024-11-12T11:37:58.933553Z"
    }
   },
   "source": [
    "# Create matrix with the nodes as columns and the generators, loads and winds as rows, with 1 if connected to the node\n",
    "Gen_n = np.zeros((len(Generator), len(Nodes)))\n",
    "Load_n = np.zeros((len(Load), len(Nodes)))\n",
    "Wind_n = np.zeros((len(Wind), len(Nodes)))\n",
    "\n",
    "# Populate the matrix\n",
    "for i, g in enumerate(Generator):  # Iterate over generators\n",
    "    for j, node in enumerate(Nodes):  # Iterate over nodes\n",
    "        if Generator_node.get(node) == g:  # Check if generator is connected to the node\n",
    "            Gen_n[i, j] = 1\n",
    "\n",
    "for i, l in enumerate(Load):  # Iterate over loads\n",
    "    for j, node in enumerate(Nodes):  # Iterate over nodes\n",
    "        if Load_node.get(node) == l:  # Check if load is connected to the node\n",
    "            Load_n[i, j] = 1\n",
    "\n",
    "for i, w in enumerate(Wind):  # Iterate over winds\n",
    "    for j, node in enumerate(Nodes):  # Iterate over nodes\n",
    "        if Wind_node.get(node) == w:  # Check if wind is connected to the node\n",
    "            Wind_n[i, j] = 1\n",
    "            \n"
   ],
   "outputs": [],
   "execution_count": 33
  },
  {
   "cell_type": "code",
   "metadata": {
    "ExecuteTime": {
     "end_time": "2024-11-12T11:37:58.997140Z",
     "start_time": "2024-11-12T11:37:58.966142Z"
    }
   },
   "source": [
    "# Define the input data class\n",
    "class InputData:\n",
    "    \n",
    "    def __init__(\n",
    "        self,\n",
    "        wind_forecast: pd.DataFrame, \n",
    "        bus: pd.DataFrame,\n",
    "        load: pd.DataFrame,\n",
    "        max_prod: pd.DataFrame,\n",
    "        min_prod: pd.DataFrame,\n",
    "        min_down_time: pd.DataFrame,\n",
    "        min_up_time: pd.DataFrame,\n",
    "        prod_cost: pd.DataFrame,\n",
    "        ramp_rate: pd.DataFrame,\n",
    "        start_up_cost: pd.DataFrame,\n",
    "        transmission_cap: pd.DataFrame\n",
    "    ):\n",
    "        self.time = list(range(len(wind_forecast)))\n",
    "        self.wind_forecast = wind_forecast\n",
    "        self.bus = bus\n",
    "        self.load = load\n",
    "        self.max_prod = max_prod\n",
    "        self.min_prod = min_prod\n",
    "        self.min_down_time = min_down_time\n",
    "        self.min_up_time = min_up_time\n",
    "        self.prod_cost = prod_cost\n",
    "        self.ramp_rate = ramp_rate\n",
    "        self.start_up_cost = start_up_cost\n",
    "        self.transmission_cap = transmission_cap\n",
    "        self.M = 1000000  # Penalty for having flexible demand\n",
    "        self.Gen_n = Gen_n  # Matrix mapping generators to nodes\n",
    "        self.Load_n = Load_n # Matrix mapping loads to nodes\n",
    "        self.Wind_n = Wind_n # Matrix mapping wind to nodes\n",
    "        \n",
    "        \n"
   ],
   "outputs": [],
   "execution_count": 34
  },
  {
   "cell_type": "code",
   "metadata": {
    "ExecuteTime": {
     "end_time": "2024-11-12T11:37:59.026141Z",
     "start_time": "2024-11-12T11:37:59.004140Z"
    }
   },
   "source": [
    "class Expando(object):\n",
    "    '''\n",
    "        A small class which can have attributes set\n",
    "    '''\n",
    "    pass"
   ],
   "outputs": [],
   "execution_count": 35
  },
  {
   "metadata": {
    "ExecuteTime": {
     "end_time": "2024-11-12T11:37:59.042184Z",
     "start_time": "2024-11-12T11:37:59.032184Z"
    }
   },
   "cell_type": "code",
   "source": "\n",
   "outputs": [],
   "execution_count": 35
  },
  {
   "cell_type": "code",
   "metadata": {
    "ExecuteTime": {
     "end_time": "2024-11-12T11:37:59.137827Z",
     "start_time": "2024-11-12T11:37:59.048782Z"
    }
   },
   "source": [
    "# Define the optimization model class\n",
    "\n",
    "class EconomicDispatch():\n",
    "        \n",
    "        def __init__(self, input_data: InputData):\n",
    "            self.data = input_data \n",
    "            self.variables = Expando()\n",
    "            self.constraints = Expando() \n",
    "            self.results = Expando() \n",
    "            self._build_model() \n",
    "            \n",
    "        def _build_variables(self):\n",
    "            # one binary variable for the status of each generator\n",
    "            self.variables.status = {\n",
    "                (i, t): self.model.addVar(vtype=GRB.BINARY, \n",
    "                                            name='status_G{}_{}'.format(i, t)) \n",
    "                                            for i in range(1, len(self.data.max_prod)+1) \n",
    "                                            for t in self.data.time}\n",
    "            \n",
    "            # one variable for each generator for each time of the day\n",
    "            self.variables.prod_gen = {\n",
    "                 (i, t): self.model.addVar(lb=0, ub=self.data.max_prod.iloc[i-1, 0], \n",
    "                                           name='generation_G{}_{}'.format(i, t)) \n",
    "                                           for i in range(1, len(self.data.max_prod)+1) \n",
    "                                           for t in self.data.time}\n",
    "            \n",
    "            # one variable for each wind generator for each time of the day\n",
    "            self.variables.prod_wind = {\n",
    "                 (i, t): self.model.addVar(lb=0, ub=self.data.wind_forecast.iloc[t, i], \n",
    "                                            name='wind_generation_W{}_{}'.format(i, t)) \n",
    "                                            for i in range(1, len(self.data.wind_forecast.iloc[0, :])) \n",
    "                                            for t in self.data.time}\n",
    "            \n",
    "            # one variable for each start-up cost for each generator\n",
    "            self.variables.start_up_cost = {\n",
    "                 (i, t): self.model.addVar(lb=0, \n",
    "                                            name='start_up_cost_G{}_{}'.format(i, t)) \n",
    "                                            for i in range(1, len(self.data.max_prod)+1) \n",
    "                                            for t in self.data.time}\n",
    "            \n",
    "            # add two slack variables to always make the model feasible, allowing the demand to be flexible\n",
    "            self.variables.epsilon = {\n",
    "                 (n, t): self.model.addVar(lb=0, \n",
    "                                           name='epsilon_Bus{}_{}'.format(n, t)) \n",
    "                                           for n in range(1, len(self.data.bus.iloc[0,:])+1) \n",
    "                                           for t in self.data.time}\n",
    "            self.variables.delta = {\n",
    "                 (n, t): self.model.addVar(lb=0, \n",
    "                                           name='delta_Bus{}_{}'.format(n, t))\n",
    "                                           for n in range(1, len(self.data.bus.iloc[0,:])+1)\n",
    "                                           for t in self.data.time}\n",
    "            \n",
    "            \n",
    "        def _build_constraints(self):\n",
    "            # Minimum capacity of the generator\n",
    "            self.constraints.min_capacity = {\n",
    "                (i, t): self.model.addConstr(\n",
    "                    self.variables.prod_gen[i, t] >= self.data.min_prod.iloc[i-1, 0] * self.variables.status[i, t]\n",
    "                ) for i in range(1, len(self.data.max_prod)+1) for t in self.data.time}\n",
    "            # Maximum capacity of the generator\n",
    "            self.constraints.max_capacity = {\n",
    "                (i, t): self.model.addConstr(\n",
    "                    self.variables.prod_gen[i, t] <= self.data.max_prod.iloc[i-1, 0] * self.variables.status[i, t]\n",
    "                ) for i in range(1, len(self.data.max_prod)+1) for t in self.data.time}\n",
    "\n",
    "            # Power balance constraint\n",
    "            self.constraints.power_balance = {\n",
    "                t: self.model.addConstr(\n",
    "                    gp.quicksum(self.variables.prod_gen[i, t] for i in range(1, len(self.data.max_prod)+1)) + \n",
    "                    gp.quicksum(self.variables.prod_wind[i, t] for i in range(1, len(self.data.wind_forecast.iloc[0, :]))) == \n",
    "                    gp.quicksum(self.data.load.iloc[t, i] * Load_n[i-1, n-1] + self.variables.epsilon[n, t] - self.variables.delta[n, t] \n",
    "                        for i in range(1, len(self.data.load.iloc[0, :]))\n",
    "                        for n in range(1, len(self.data.bus.iloc[0,:])+1))\n",
    "                ) for t in self.data.time}\n",
    "\n",
    "            # Transmission capacity constraint\n",
    "            self.constraints.transmission_capacity_up = {\n",
    "                    (l, t): self.model.addConstr(\n",
    "                        gp.quicksum(self.data.bus.iloc[l-1, n-1] *\n",
    "                                (self.variables.prod_gen[i, t] * Gen_n[i-1, n-1] +\n",
    "                                self.variables.prod_wind[i, t] * Wind_n[i-1, n-1] -\n",
    "                                self.variables.epsilon[n, t] +\n",
    "                                self.variables.delta[n, t]) for n in range(1, len(self.data.bus.iloc[0,:])+1)) <=\n",
    "                        self.data.transmission_cap.iloc[l-1, 0]\n",
    "                    ) for l in range(1, len(self.data.transmission_cap)+1)\n",
    "                    for t in self.data.time}\n",
    "            self.constraints.transmission_capacity_down = {\n",
    "                    (l, t): self.model.addConstr(\n",
    "                        gp.quicksum(self.data.bus.iloc[l-1, n-1] *\n",
    "                                (self.variables.prod_gen[i, t] * Gen_n[i-1, n-1] +\n",
    "                                self.variables.prod_wind[i, t] * Wind_n[i-1, n-1] -\n",
    "                                self.variables.epsilon[n, t] +\n",
    "                                self.variables.delta[n, t]) for n in range(1, len(self.data.bus.iloc[0,:])+1)) >=\n",
    "                        -self.data.transmission_cap.iloc[l-1, 0]\n",
    "                    ) for l in range(1, len(self.data.transmission_cap)+1)\n",
    "                    for t in self.data.time}\n",
    "                                     \n",
    "\n",
    "\n",
    "\n",
    "\n",
    "            #Start-up costs constraint\n",
    "            self.constraints.start_up_cost = {\n",
    "                (i, t): self.model.addConstr(\n",
    "                    self.variables.start_up_cost[i, t] >= self.data.start_up_cost.iloc[i-1, 0] * (self.variables.status[i, t] - self.variables.status[i, t-1])\n",
    "                ) for i in range(1, len(self.data.max_prod)+1) for t in self.data.time if t > 0}\n",
    "            self.constraints.start_up_cost_0 = {\n",
    "                i: self.model.addConstr(\n",
    "                    self.variables.start_up_cost[i, 0] >= self.data.start_up_cost.iloc[i-1, 0] * self.variables.status[i, 0]\n",
    "                ) for i in range(1, len(self.data.max_prod)+1)}\n",
    "            \n",
    "            # Ramping constraint\n",
    "            self.constraints.ramping_up = {\n",
    "                (i, t): self.model.addConstr(\n",
    "                    self.variables.prod_gen[i, t] - self.variables.prod_gen[i, t-1] <= self.data.ramp_rate.iloc[i-1, 0]\n",
    "                ) for i in range(1, len(self.data.max_prod)+1) for t in self.data.time if t > 0}\n",
    "            self.constraints.ramping_down = {\n",
    "                (i, t): self.model.addConstr(\n",
    "                    self.variables.prod_gen[i, t-1] - self.variables.prod_gen[i, t] <= self.data.ramp_rate.iloc[i-1, 0]\n",
    "                ) for i in range(1, len(self.data.max_prod)+1) for t in self.data.time if t > 0}\n",
    "            \n",
    "            # Minimum up time constraint\n",
    "            self.constraints.min_up_time = {\n",
    "                (i, t, to): self.model.addConstr(\n",
    "                    -self.variables.status[i, t - 1] + self.variables.status[i, t] - self.variables.status[i, to] <= 0\n",
    "                ) for i in range(1, len(self.data.max_prod)+1) \n",
    "                for t in self.data.time \n",
    "                for to in range(t, min(t + self.data.min_up_time.iloc[i-1, 0], len(self.data.time))) if t > 0}\n",
    "            \n",
    "            # Minimum down time constraint\n",
    "            self.constraints.min_down_time = {\n",
    "                (i, t, to): self.model.addConstr(\n",
    "                    self.variables.status[i, t - 1] - self.variables.status[i, t] + self.variables.status[i, to] <= 1\n",
    "                ) for i in range(1, len(self.data.max_prod)+1) \n",
    "                for t in self.data.time \n",
    "                for to in range(t, min(t + self.data.min_down_time.iloc[i-1, 0], len(self.data.time))) if t > 0}\n",
    "            \n",
    "\n",
    "\n",
    "        def _build_objective(self):\n",
    "            # Objective function\n",
    "            self.model.setObjective(\n",
    "                gp.quicksum(self.data.prod_cost.iloc[i-1, 0]*self.variables.prod_gen[i, t] for i in range(1, len(self.data.max_prod)+1) for t in self.data.time) +\n",
    "                gp.quicksum(self.variables.start_up_cost[i, t] for i in range(1, len(self.data.max_prod)+1) for t in self.data.time) +\n",
    "                self.data.M * (gp.quicksum(self.variables.epsilon[n, t] + self.variables.delta[n, t] for n in range(1, len(self.data.bus.iloc[0,:])+1) for t in self.data.time))\n",
    "            )\n",
    "\n",
    "        def _build_model(self):\n",
    "            self.model = gp.Model('EconomicDispatch')\n",
    "            self._build_variables()\n",
    "            self._build_constraints()\n",
    "            self._build_objective()\n",
    "            self.model.update()\n",
    "\n",
    "        def optimize(self):\n",
    "            self.model.optimize()\n",
    "            self._extract_results()\n",
    "\n",
    "        def _extract_results(self):\n",
    "            self.results.production = pd.DataFrame({\n",
    "                #'time': [t for t in self.data.time],\n",
    "                #'status G1': [self.variables.status[1, t].x for t in self.data.time],\n",
    "                #'status G2': [self.variables.status[2, t].x for t in self.data.time],\n",
    "                #'status G3': [self.variables.status[3, t].x for t in self.data.time],\n",
    "                #'start_up_cost 1': [self.variables.start_up_cost[1, t].x for t in self.data.time],\n",
    "                #'start_up_cost 2': [self.variables.start_up_cost[2, t].x for t in self.data.time],\n",
    "                #'start_up_cost 3': [self.variables.start_up_cost[3, t].x for t in self.data.time],\n",
    "                'generation 1': [self.variables.prod_gen[1, t].x for t in self.data.time],\n",
    "                'generation 2': [self.variables.prod_gen[2, t].x for t in self.data.time],\n",
    "                'generation 3': [self.variables.prod_gen[3, t].x for t in self.data.time],\n",
    "                'wind generation 1': [self.variables.prod_wind[1, t].x for t in self.data.time],\n",
    "                'wind generation 2': [self.variables.prod_wind[2, t].x for t in self.data.time],\n",
    "                'load 1': [self.data.load.iloc[t, 1] for t in self.data.time],\n",
    "                'load 2': [self.data.load.iloc[t, 2] for t in self.data.time],\n",
    "                'load 3': [self.data.load.iloc[t, 3] for t in self.data.time],\n",
    "                'epsilon 1': [self.variables.epsilon[1, t].x for t in self.data.time],\n",
    "                'delta 1': [self.variables.delta[1, t].x for t in self.data.time],\n",
    "                'epsilon 2': [self.variables.epsilon[2, t].x for t in self.data.time],\n",
    "                'delta 2': [self.variables.delta[2, t].x for t in self.data.time],\n",
    "                'epsilon 3': [self.variables.epsilon[3, t].x for t in self.data.time],\n",
    "                'delta 3': [self.variables.delta[3, t].x for t in self.data.time],\n",
    "                'epsilon 4': [self.variables.epsilon[4, t].x for t in self.data.time],\n",
    "                'delta 4': [self.variables.delta[4, t].x for t in self.data.time],\n",
    "                'epsilon 5': [self.variables.epsilon[5, t].x for t in self.data.time],\n",
    "                'delta 5': [self.variables.delta[5, t].x for t in self.data.time],\n",
    "                'epsilon 6': [self.variables.epsilon[6, t].x for t in self.data.time],\n",
    "                'delta 6': [self.variables.delta[6, t].x for t in self.data.time]\n",
    "            })\n",
    "            self.results.unit_commitment = pd.DataFrame({\n",
    "                'time': [t for t in self.data.time],\n",
    "                'G1': [self.variables.status[1, t].x for t in self.data.time],\n",
    "                'G2': [self.variables.status[2, t].x for t in self.data.time],\n",
    "                'G3': [self.variables.status[3, t].x for t in self.data.time]\n",
    "            })\n",
    "            "
   ],
   "outputs": [],
   "execution_count": 36
  },
  {
   "cell_type": "code",
   "metadata": {
    "ExecuteTime": {
     "end_time": "2024-11-12T11:38:19.850575Z",
     "start_time": "2024-11-12T11:37:59.143826Z"
    }
   },
   "source": [
    "# Run the model\n",
    "input_data = InputData(wind_forecast, bus, load, max_prod, min_prod, min_down_time, min_up_time, prod_cost, ramp_rate, start_up_cost, transmission_cap)\n",
    "model = EconomicDispatch(input_data)\n",
    "model.optimize()\n",
    "model.results.production\n"
   ],
   "outputs": [
    {
     "ename": "IndexError",
     "evalue": "index 3 is out of bounds for axis 0 with size 3",
     "output_type": "error",
     "traceback": [
      "\u001B[1;31m---------------------------------------------------------------------------\u001B[0m",
      "\u001B[1;31mIndexError\u001B[0m                                Traceback (most recent call last)",
      "Cell \u001B[1;32mIn[37], line 3\u001B[0m\n\u001B[0;32m      1\u001B[0m \u001B[38;5;66;03m# Run the model\u001B[39;00m\n\u001B[0;32m      2\u001B[0m input_data \u001B[38;5;241m=\u001B[39m InputData(wind_forecast, bus, load, max_prod, min_prod, min_down_time, min_up_time, prod_cost, ramp_rate, start_up_cost, transmission_cap)\n\u001B[1;32m----> 3\u001B[0m model \u001B[38;5;241m=\u001B[39m \u001B[43mEconomicDispatch\u001B[49m\u001B[43m(\u001B[49m\u001B[43minput_data\u001B[49m\u001B[43m)\u001B[49m\n\u001B[0;32m      4\u001B[0m model\u001B[38;5;241m.\u001B[39moptimize()\n\u001B[0;32m      5\u001B[0m model\u001B[38;5;241m.\u001B[39mresults\u001B[38;5;241m.\u001B[39mproduction\n",
      "Cell \u001B[1;32mIn[36], line 10\u001B[0m, in \u001B[0;36mEconomicDispatch.__init__\u001B[1;34m(self, input_data)\u001B[0m\n\u001B[0;32m      8\u001B[0m \u001B[38;5;28mself\u001B[39m\u001B[38;5;241m.\u001B[39mconstraints \u001B[38;5;241m=\u001B[39m Expando() \n\u001B[0;32m      9\u001B[0m \u001B[38;5;28mself\u001B[39m\u001B[38;5;241m.\u001B[39mresults \u001B[38;5;241m=\u001B[39m Expando() \n\u001B[1;32m---> 10\u001B[0m \u001B[38;5;28;43mself\u001B[39;49m\u001B[38;5;241;43m.\u001B[39;49m\u001B[43m_build_model\u001B[49m\u001B[43m(\u001B[49m\u001B[43m)\u001B[49m\n",
      "Cell \u001B[1;32mIn[36], line 151\u001B[0m, in \u001B[0;36mEconomicDispatch._build_model\u001B[1;34m(self)\u001B[0m\n\u001B[0;32m    149\u001B[0m \u001B[38;5;28mself\u001B[39m\u001B[38;5;241m.\u001B[39mmodel \u001B[38;5;241m=\u001B[39m gp\u001B[38;5;241m.\u001B[39mModel(\u001B[38;5;124m'\u001B[39m\u001B[38;5;124mEconomicDispatch\u001B[39m\u001B[38;5;124m'\u001B[39m)\n\u001B[0;32m    150\u001B[0m \u001B[38;5;28mself\u001B[39m\u001B[38;5;241m.\u001B[39m_build_variables()\n\u001B[1;32m--> 151\u001B[0m \u001B[38;5;28;43mself\u001B[39;49m\u001B[38;5;241;43m.\u001B[39;49m\u001B[43m_build_constraints\u001B[49m\u001B[43m(\u001B[49m\u001B[43m)\u001B[49m\n\u001B[0;32m    152\u001B[0m \u001B[38;5;28mself\u001B[39m\u001B[38;5;241m.\u001B[39m_build_objective()\n\u001B[0;32m    153\u001B[0m \u001B[38;5;28mself\u001B[39m\u001B[38;5;241m.\u001B[39mmodel\u001B[38;5;241m.\u001B[39mupdate()\n",
      "Cell \u001B[1;32mIn[36], line 67\u001B[0m, in \u001B[0;36mEconomicDispatch._build_constraints\u001B[1;34m(self)\u001B[0m\n\u001B[0;32m     61\u001B[0m \u001B[38;5;28mself\u001B[39m\u001B[38;5;241m.\u001B[39mconstraints\u001B[38;5;241m.\u001B[39mmax_capacity \u001B[38;5;241m=\u001B[39m {\n\u001B[0;32m     62\u001B[0m     (i, t): \u001B[38;5;28mself\u001B[39m\u001B[38;5;241m.\u001B[39mmodel\u001B[38;5;241m.\u001B[39maddConstr(\n\u001B[0;32m     63\u001B[0m         \u001B[38;5;28mself\u001B[39m\u001B[38;5;241m.\u001B[39mvariables\u001B[38;5;241m.\u001B[39mprod_gen[i, t] \u001B[38;5;241m<\u001B[39m\u001B[38;5;241m=\u001B[39m \u001B[38;5;28mself\u001B[39m\u001B[38;5;241m.\u001B[39mdata\u001B[38;5;241m.\u001B[39mmax_prod\u001B[38;5;241m.\u001B[39miloc[i\u001B[38;5;241m-\u001B[39m\u001B[38;5;241m1\u001B[39m, \u001B[38;5;241m0\u001B[39m] \u001B[38;5;241m*\u001B[39m \u001B[38;5;28mself\u001B[39m\u001B[38;5;241m.\u001B[39mvariables\u001B[38;5;241m.\u001B[39mstatus[i, t]\n\u001B[0;32m     64\u001B[0m     ) \u001B[38;5;28;01mfor\u001B[39;00m i \u001B[38;5;129;01min\u001B[39;00m \u001B[38;5;28mrange\u001B[39m(\u001B[38;5;241m1\u001B[39m, \u001B[38;5;28mlen\u001B[39m(\u001B[38;5;28mself\u001B[39m\u001B[38;5;241m.\u001B[39mdata\u001B[38;5;241m.\u001B[39mmax_prod)\u001B[38;5;241m+\u001B[39m\u001B[38;5;241m1\u001B[39m) \u001B[38;5;28;01mfor\u001B[39;00m t \u001B[38;5;129;01min\u001B[39;00m \u001B[38;5;28mself\u001B[39m\u001B[38;5;241m.\u001B[39mdata\u001B[38;5;241m.\u001B[39mtime}\n\u001B[0;32m     66\u001B[0m \u001B[38;5;66;03m# Power balance constraint\u001B[39;00m\n\u001B[1;32m---> 67\u001B[0m \u001B[38;5;28mself\u001B[39m\u001B[38;5;241m.\u001B[39mconstraints\u001B[38;5;241m.\u001B[39mpower_balance \u001B[38;5;241m=\u001B[39m {\n\u001B[0;32m     68\u001B[0m     t: \u001B[38;5;28mself\u001B[39m\u001B[38;5;241m.\u001B[39mmodel\u001B[38;5;241m.\u001B[39maddConstr(\n\u001B[0;32m     69\u001B[0m         gp\u001B[38;5;241m.\u001B[39mquicksum(\u001B[38;5;28mself\u001B[39m\u001B[38;5;241m.\u001B[39mvariables\u001B[38;5;241m.\u001B[39mprod_gen[i, t] \u001B[38;5;28;01mfor\u001B[39;00m i \u001B[38;5;129;01min\u001B[39;00m \u001B[38;5;28mrange\u001B[39m(\u001B[38;5;241m1\u001B[39m, \u001B[38;5;28mlen\u001B[39m(\u001B[38;5;28mself\u001B[39m\u001B[38;5;241m.\u001B[39mdata\u001B[38;5;241m.\u001B[39mmax_prod)\u001B[38;5;241m+\u001B[39m\u001B[38;5;241m1\u001B[39m)) \u001B[38;5;241m+\u001B[39m \n\u001B[0;32m     70\u001B[0m         gp\u001B[38;5;241m.\u001B[39mquicksum(\u001B[38;5;28mself\u001B[39m\u001B[38;5;241m.\u001B[39mvariables\u001B[38;5;241m.\u001B[39mprod_wind[i, t] \u001B[38;5;28;01mfor\u001B[39;00m i \u001B[38;5;129;01min\u001B[39;00m \u001B[38;5;28mrange\u001B[39m(\u001B[38;5;241m1\u001B[39m, \u001B[38;5;28mlen\u001B[39m(\u001B[38;5;28mself\u001B[39m\u001B[38;5;241m.\u001B[39mdata\u001B[38;5;241m.\u001B[39mwind_forecast\u001B[38;5;241m.\u001B[39miloc[\u001B[38;5;241m0\u001B[39m, :]))) \u001B[38;5;241m==\u001B[39m \n\u001B[0;32m     71\u001B[0m         gp\u001B[38;5;241m.\u001B[39mquicksum(\u001B[38;5;28mself\u001B[39m\u001B[38;5;241m.\u001B[39mdata\u001B[38;5;241m.\u001B[39mload\u001B[38;5;241m.\u001B[39miloc[t, i] \u001B[38;5;241m*\u001B[39m Load_n[i\u001B[38;5;241m-\u001B[39m\u001B[38;5;241m1\u001B[39m, n\u001B[38;5;241m-\u001B[39m\u001B[38;5;241m1\u001B[39m] \u001B[38;5;241m+\u001B[39m \u001B[38;5;28mself\u001B[39m\u001B[38;5;241m.\u001B[39mvariables\u001B[38;5;241m.\u001B[39mepsilon[n, t] \u001B[38;5;241m-\u001B[39m \u001B[38;5;28mself\u001B[39m\u001B[38;5;241m.\u001B[39mvariables\u001B[38;5;241m.\u001B[39mdelta[n, t] \n\u001B[0;32m     72\u001B[0m             \u001B[38;5;28;01mfor\u001B[39;00m i \u001B[38;5;129;01min\u001B[39;00m \u001B[38;5;28mrange\u001B[39m(\u001B[38;5;241m1\u001B[39m, \u001B[38;5;28mlen\u001B[39m(\u001B[38;5;28mself\u001B[39m\u001B[38;5;241m.\u001B[39mdata\u001B[38;5;241m.\u001B[39mload\u001B[38;5;241m.\u001B[39miloc[\u001B[38;5;241m0\u001B[39m, :]))\n\u001B[0;32m     73\u001B[0m             \u001B[38;5;28;01mfor\u001B[39;00m n \u001B[38;5;129;01min\u001B[39;00m \u001B[38;5;28mrange\u001B[39m(\u001B[38;5;241m1\u001B[39m, \u001B[38;5;28mlen\u001B[39m(\u001B[38;5;28mself\u001B[39m\u001B[38;5;241m.\u001B[39mdata\u001B[38;5;241m.\u001B[39mbus\u001B[38;5;241m.\u001B[39miloc[\u001B[38;5;241m0\u001B[39m,:])\u001B[38;5;241m+\u001B[39m\u001B[38;5;241m1\u001B[39m))\n\u001B[0;32m     74\u001B[0m     ) \u001B[38;5;28;01mfor\u001B[39;00m t \u001B[38;5;129;01min\u001B[39;00m \u001B[38;5;28mself\u001B[39m\u001B[38;5;241m.\u001B[39mdata\u001B[38;5;241m.\u001B[39mtime}\n\u001B[0;32m     76\u001B[0m \u001B[38;5;66;03m# Transmission capacity constraint\u001B[39;00m\n\u001B[0;32m     77\u001B[0m \u001B[38;5;28mself\u001B[39m\u001B[38;5;241m.\u001B[39mconstraints\u001B[38;5;241m.\u001B[39mtransmission_capacity_up \u001B[38;5;241m=\u001B[39m {\n\u001B[0;32m     78\u001B[0m         (l, t): \u001B[38;5;28mself\u001B[39m\u001B[38;5;241m.\u001B[39mmodel\u001B[38;5;241m.\u001B[39maddConstr(\n\u001B[0;32m     79\u001B[0m             gp\u001B[38;5;241m.\u001B[39mquicksum(\u001B[38;5;28mself\u001B[39m\u001B[38;5;241m.\u001B[39mdata\u001B[38;5;241m.\u001B[39mbus\u001B[38;5;241m.\u001B[39miloc[l\u001B[38;5;241m-\u001B[39m\u001B[38;5;241m1\u001B[39m, n\u001B[38;5;241m-\u001B[39m\u001B[38;5;241m1\u001B[39m] \u001B[38;5;241m*\u001B[39m\n\u001B[1;32m   (...)\u001B[0m\n\u001B[0;32m     85\u001B[0m         ) \u001B[38;5;28;01mfor\u001B[39;00m l \u001B[38;5;129;01min\u001B[39;00m \u001B[38;5;28mrange\u001B[39m(\u001B[38;5;241m1\u001B[39m, \u001B[38;5;28mlen\u001B[39m(\u001B[38;5;28mself\u001B[39m\u001B[38;5;241m.\u001B[39mdata\u001B[38;5;241m.\u001B[39mtransmission_cap)\u001B[38;5;241m+\u001B[39m\u001B[38;5;241m1\u001B[39m)\n\u001B[0;32m     86\u001B[0m         \u001B[38;5;28;01mfor\u001B[39;00m t \u001B[38;5;129;01min\u001B[39;00m \u001B[38;5;28mself\u001B[39m\u001B[38;5;241m.\u001B[39mdata\u001B[38;5;241m.\u001B[39mtime}\n",
      "Cell \u001B[1;32mIn[36], line 71\u001B[0m, in \u001B[0;36m<dictcomp>\u001B[1;34m(.0)\u001B[0m\n\u001B[0;32m     61\u001B[0m \u001B[38;5;28mself\u001B[39m\u001B[38;5;241m.\u001B[39mconstraints\u001B[38;5;241m.\u001B[39mmax_capacity \u001B[38;5;241m=\u001B[39m {\n\u001B[0;32m     62\u001B[0m     (i, t): \u001B[38;5;28mself\u001B[39m\u001B[38;5;241m.\u001B[39mmodel\u001B[38;5;241m.\u001B[39maddConstr(\n\u001B[0;32m     63\u001B[0m         \u001B[38;5;28mself\u001B[39m\u001B[38;5;241m.\u001B[39mvariables\u001B[38;5;241m.\u001B[39mprod_gen[i, t] \u001B[38;5;241m<\u001B[39m\u001B[38;5;241m=\u001B[39m \u001B[38;5;28mself\u001B[39m\u001B[38;5;241m.\u001B[39mdata\u001B[38;5;241m.\u001B[39mmax_prod\u001B[38;5;241m.\u001B[39miloc[i\u001B[38;5;241m-\u001B[39m\u001B[38;5;241m1\u001B[39m, \u001B[38;5;241m0\u001B[39m] \u001B[38;5;241m*\u001B[39m \u001B[38;5;28mself\u001B[39m\u001B[38;5;241m.\u001B[39mvariables\u001B[38;5;241m.\u001B[39mstatus[i, t]\n\u001B[0;32m     64\u001B[0m     ) \u001B[38;5;28;01mfor\u001B[39;00m i \u001B[38;5;129;01min\u001B[39;00m \u001B[38;5;28mrange\u001B[39m(\u001B[38;5;241m1\u001B[39m, \u001B[38;5;28mlen\u001B[39m(\u001B[38;5;28mself\u001B[39m\u001B[38;5;241m.\u001B[39mdata\u001B[38;5;241m.\u001B[39mmax_prod)\u001B[38;5;241m+\u001B[39m\u001B[38;5;241m1\u001B[39m) \u001B[38;5;28;01mfor\u001B[39;00m t \u001B[38;5;129;01min\u001B[39;00m \u001B[38;5;28mself\u001B[39m\u001B[38;5;241m.\u001B[39mdata\u001B[38;5;241m.\u001B[39mtime}\n\u001B[0;32m     66\u001B[0m \u001B[38;5;66;03m# Power balance constraint\u001B[39;00m\n\u001B[0;32m     67\u001B[0m \u001B[38;5;28mself\u001B[39m\u001B[38;5;241m.\u001B[39mconstraints\u001B[38;5;241m.\u001B[39mpower_balance \u001B[38;5;241m=\u001B[39m {\n\u001B[0;32m     68\u001B[0m     t: \u001B[38;5;28mself\u001B[39m\u001B[38;5;241m.\u001B[39mmodel\u001B[38;5;241m.\u001B[39maddConstr(\n\u001B[0;32m     69\u001B[0m         gp\u001B[38;5;241m.\u001B[39mquicksum(\u001B[38;5;28mself\u001B[39m\u001B[38;5;241m.\u001B[39mvariables\u001B[38;5;241m.\u001B[39mprod_gen[i, t] \u001B[38;5;28;01mfor\u001B[39;00m i \u001B[38;5;129;01min\u001B[39;00m \u001B[38;5;28mrange\u001B[39m(\u001B[38;5;241m1\u001B[39m, \u001B[38;5;28mlen\u001B[39m(\u001B[38;5;28mself\u001B[39m\u001B[38;5;241m.\u001B[39mdata\u001B[38;5;241m.\u001B[39mmax_prod)\u001B[38;5;241m+\u001B[39m\u001B[38;5;241m1\u001B[39m)) \u001B[38;5;241m+\u001B[39m \n\u001B[0;32m     70\u001B[0m         gp\u001B[38;5;241m.\u001B[39mquicksum(\u001B[38;5;28mself\u001B[39m\u001B[38;5;241m.\u001B[39mvariables\u001B[38;5;241m.\u001B[39mprod_wind[i, t] \u001B[38;5;28;01mfor\u001B[39;00m i \u001B[38;5;129;01min\u001B[39;00m \u001B[38;5;28mrange\u001B[39m(\u001B[38;5;241m1\u001B[39m, \u001B[38;5;28mlen\u001B[39m(\u001B[38;5;28mself\u001B[39m\u001B[38;5;241m.\u001B[39mdata\u001B[38;5;241m.\u001B[39mwind_forecast\u001B[38;5;241m.\u001B[39miloc[\u001B[38;5;241m0\u001B[39m, :]))) \u001B[38;5;241m==\u001B[39m \n\u001B[1;32m---> 71\u001B[0m         \u001B[43mgp\u001B[49m\u001B[38;5;241;43m.\u001B[39;49m\u001B[43mquicksum\u001B[49m\u001B[43m(\u001B[49m\u001B[38;5;28;43mself\u001B[39;49m\u001B[38;5;241;43m.\u001B[39;49m\u001B[43mdata\u001B[49m\u001B[38;5;241;43m.\u001B[39;49m\u001B[43mload\u001B[49m\u001B[38;5;241;43m.\u001B[39;49m\u001B[43miloc\u001B[49m\u001B[43m[\u001B[49m\u001B[43mt\u001B[49m\u001B[43m,\u001B[49m\u001B[43m \u001B[49m\u001B[43mi\u001B[49m\u001B[43m]\u001B[49m\u001B[43m \u001B[49m\u001B[38;5;241;43m*\u001B[39;49m\u001B[43m \u001B[49m\u001B[43mLoad_n\u001B[49m\u001B[43m[\u001B[49m\u001B[43mi\u001B[49m\u001B[38;5;241;43m-\u001B[39;49m\u001B[38;5;241;43m1\u001B[39;49m\u001B[43m,\u001B[49m\u001B[43m \u001B[49m\u001B[43mn\u001B[49m\u001B[38;5;241;43m-\u001B[39;49m\u001B[38;5;241;43m1\u001B[39;49m\u001B[43m]\u001B[49m\u001B[43m \u001B[49m\u001B[38;5;241;43m+\u001B[39;49m\u001B[43m \u001B[49m\u001B[38;5;28;43mself\u001B[39;49m\u001B[38;5;241;43m.\u001B[39;49m\u001B[43mvariables\u001B[49m\u001B[38;5;241;43m.\u001B[39;49m\u001B[43mepsilon\u001B[49m\u001B[43m[\u001B[49m\u001B[43mn\u001B[49m\u001B[43m,\u001B[49m\u001B[43m \u001B[49m\u001B[43mt\u001B[49m\u001B[43m]\u001B[49m\u001B[43m \u001B[49m\u001B[38;5;241;43m-\u001B[39;49m\u001B[43m \u001B[49m\u001B[38;5;28;43mself\u001B[39;49m\u001B[38;5;241;43m.\u001B[39;49m\u001B[43mvariables\u001B[49m\u001B[38;5;241;43m.\u001B[39;49m\u001B[43mdelta\u001B[49m\u001B[43m[\u001B[49m\u001B[43mn\u001B[49m\u001B[43m,\u001B[49m\u001B[43m \u001B[49m\u001B[43mt\u001B[49m\u001B[43m]\u001B[49m\u001B[43m \u001B[49m\n\u001B[0;32m     72\u001B[0m \u001B[43m            \u001B[49m\u001B[38;5;28;43;01mfor\u001B[39;49;00m\u001B[43m \u001B[49m\u001B[43mi\u001B[49m\u001B[43m \u001B[49m\u001B[38;5;129;43;01min\u001B[39;49;00m\u001B[43m \u001B[49m\u001B[38;5;28;43mrange\u001B[39;49m\u001B[43m(\u001B[49m\u001B[38;5;241;43m1\u001B[39;49m\u001B[43m,\u001B[49m\u001B[43m \u001B[49m\u001B[38;5;28;43mlen\u001B[39;49m\u001B[43m(\u001B[49m\u001B[38;5;28;43mself\u001B[39;49m\u001B[38;5;241;43m.\u001B[39;49m\u001B[43mdata\u001B[49m\u001B[38;5;241;43m.\u001B[39;49m\u001B[43mload\u001B[49m\u001B[38;5;241;43m.\u001B[39;49m\u001B[43miloc\u001B[49m\u001B[43m[\u001B[49m\u001B[38;5;241;43m0\u001B[39;49m\u001B[43m,\u001B[49m\u001B[43m \u001B[49m\u001B[43m:\u001B[49m\u001B[43m]\u001B[49m\u001B[43m)\u001B[49m\u001B[43m)\u001B[49m\n\u001B[0;32m     73\u001B[0m \u001B[43m            \u001B[49m\u001B[38;5;28;43;01mfor\u001B[39;49;00m\u001B[43m \u001B[49m\u001B[43mn\u001B[49m\u001B[43m \u001B[49m\u001B[38;5;129;43;01min\u001B[39;49;00m\u001B[43m \u001B[49m\u001B[38;5;28;43mrange\u001B[39;49m\u001B[43m(\u001B[49m\u001B[38;5;241;43m1\u001B[39;49m\u001B[43m,\u001B[49m\u001B[43m \u001B[49m\u001B[38;5;28;43mlen\u001B[39;49m\u001B[43m(\u001B[49m\u001B[38;5;28;43mself\u001B[39;49m\u001B[38;5;241;43m.\u001B[39;49m\u001B[43mdata\u001B[49m\u001B[38;5;241;43m.\u001B[39;49m\u001B[43mbus\u001B[49m\u001B[38;5;241;43m.\u001B[39;49m\u001B[43miloc\u001B[49m\u001B[43m[\u001B[49m\u001B[38;5;241;43m0\u001B[39;49m\u001B[43m,\u001B[49m\u001B[43m:\u001B[49m\u001B[43m]\u001B[49m\u001B[43m)\u001B[49m\u001B[38;5;241;43m+\u001B[39;49m\u001B[38;5;241;43m1\u001B[39;49m\u001B[43m)\u001B[49m\u001B[43m)\u001B[49m\n\u001B[0;32m     74\u001B[0m     ) \u001B[38;5;28;01mfor\u001B[39;00m t \u001B[38;5;129;01min\u001B[39;00m \u001B[38;5;28mself\u001B[39m\u001B[38;5;241m.\u001B[39mdata\u001B[38;5;241m.\u001B[39mtime}\n\u001B[0;32m     76\u001B[0m \u001B[38;5;66;03m# Transmission capacity constraint\u001B[39;00m\n\u001B[0;32m     77\u001B[0m \u001B[38;5;28mself\u001B[39m\u001B[38;5;241m.\u001B[39mconstraints\u001B[38;5;241m.\u001B[39mtransmission_capacity_up \u001B[38;5;241m=\u001B[39m {\n\u001B[0;32m     78\u001B[0m         (l, t): \u001B[38;5;28mself\u001B[39m\u001B[38;5;241m.\u001B[39mmodel\u001B[38;5;241m.\u001B[39maddConstr(\n\u001B[0;32m     79\u001B[0m             gp\u001B[38;5;241m.\u001B[39mquicksum(\u001B[38;5;28mself\u001B[39m\u001B[38;5;241m.\u001B[39mdata\u001B[38;5;241m.\u001B[39mbus\u001B[38;5;241m.\u001B[39miloc[l\u001B[38;5;241m-\u001B[39m\u001B[38;5;241m1\u001B[39m, n\u001B[38;5;241m-\u001B[39m\u001B[38;5;241m1\u001B[39m] \u001B[38;5;241m*\u001B[39m\n\u001B[1;32m   (...)\u001B[0m\n\u001B[0;32m     85\u001B[0m         ) \u001B[38;5;28;01mfor\u001B[39;00m l \u001B[38;5;129;01min\u001B[39;00m \u001B[38;5;28mrange\u001B[39m(\u001B[38;5;241m1\u001B[39m, \u001B[38;5;28mlen\u001B[39m(\u001B[38;5;28mself\u001B[39m\u001B[38;5;241m.\u001B[39mdata\u001B[38;5;241m.\u001B[39mtransmission_cap)\u001B[38;5;241m+\u001B[39m\u001B[38;5;241m1\u001B[39m)\n\u001B[0;32m     86\u001B[0m         \u001B[38;5;28;01mfor\u001B[39;00m t \u001B[38;5;129;01min\u001B[39;00m \u001B[38;5;28mself\u001B[39m\u001B[38;5;241m.\u001B[39mdata\u001B[38;5;241m.\u001B[39mtime}\n",
      "File \u001B[1;32msrc\\\\gurobipy\\\\gurobi.pxi:3842\u001B[0m, in \u001B[0;36mgurobipy.quicksum\u001B[1;34m()\u001B[0m\n",
      "Cell \u001B[1;32mIn[36], line 71\u001B[0m, in \u001B[0;36m<genexpr>\u001B[1;34m(.0)\u001B[0m\n\u001B[0;32m     61\u001B[0m \u001B[38;5;28mself\u001B[39m\u001B[38;5;241m.\u001B[39mconstraints\u001B[38;5;241m.\u001B[39mmax_capacity \u001B[38;5;241m=\u001B[39m {\n\u001B[0;32m     62\u001B[0m     (i, t): \u001B[38;5;28mself\u001B[39m\u001B[38;5;241m.\u001B[39mmodel\u001B[38;5;241m.\u001B[39maddConstr(\n\u001B[0;32m     63\u001B[0m         \u001B[38;5;28mself\u001B[39m\u001B[38;5;241m.\u001B[39mvariables\u001B[38;5;241m.\u001B[39mprod_gen[i, t] \u001B[38;5;241m<\u001B[39m\u001B[38;5;241m=\u001B[39m \u001B[38;5;28mself\u001B[39m\u001B[38;5;241m.\u001B[39mdata\u001B[38;5;241m.\u001B[39mmax_prod\u001B[38;5;241m.\u001B[39miloc[i\u001B[38;5;241m-\u001B[39m\u001B[38;5;241m1\u001B[39m, \u001B[38;5;241m0\u001B[39m] \u001B[38;5;241m*\u001B[39m \u001B[38;5;28mself\u001B[39m\u001B[38;5;241m.\u001B[39mvariables\u001B[38;5;241m.\u001B[39mstatus[i, t]\n\u001B[0;32m     64\u001B[0m     ) \u001B[38;5;28;01mfor\u001B[39;00m i \u001B[38;5;129;01min\u001B[39;00m \u001B[38;5;28mrange\u001B[39m(\u001B[38;5;241m1\u001B[39m, \u001B[38;5;28mlen\u001B[39m(\u001B[38;5;28mself\u001B[39m\u001B[38;5;241m.\u001B[39mdata\u001B[38;5;241m.\u001B[39mmax_prod)\u001B[38;5;241m+\u001B[39m\u001B[38;5;241m1\u001B[39m) \u001B[38;5;28;01mfor\u001B[39;00m t \u001B[38;5;129;01min\u001B[39;00m \u001B[38;5;28mself\u001B[39m\u001B[38;5;241m.\u001B[39mdata\u001B[38;5;241m.\u001B[39mtime}\n\u001B[0;32m     66\u001B[0m \u001B[38;5;66;03m# Power balance constraint\u001B[39;00m\n\u001B[0;32m     67\u001B[0m \u001B[38;5;28mself\u001B[39m\u001B[38;5;241m.\u001B[39mconstraints\u001B[38;5;241m.\u001B[39mpower_balance \u001B[38;5;241m=\u001B[39m {\n\u001B[0;32m     68\u001B[0m     t: \u001B[38;5;28mself\u001B[39m\u001B[38;5;241m.\u001B[39mmodel\u001B[38;5;241m.\u001B[39maddConstr(\n\u001B[0;32m     69\u001B[0m         gp\u001B[38;5;241m.\u001B[39mquicksum(\u001B[38;5;28mself\u001B[39m\u001B[38;5;241m.\u001B[39mvariables\u001B[38;5;241m.\u001B[39mprod_gen[i, t] \u001B[38;5;28;01mfor\u001B[39;00m i \u001B[38;5;129;01min\u001B[39;00m \u001B[38;5;28mrange\u001B[39m(\u001B[38;5;241m1\u001B[39m, \u001B[38;5;28mlen\u001B[39m(\u001B[38;5;28mself\u001B[39m\u001B[38;5;241m.\u001B[39mdata\u001B[38;5;241m.\u001B[39mmax_prod)\u001B[38;5;241m+\u001B[39m\u001B[38;5;241m1\u001B[39m)) \u001B[38;5;241m+\u001B[39m \n\u001B[0;32m     70\u001B[0m         gp\u001B[38;5;241m.\u001B[39mquicksum(\u001B[38;5;28mself\u001B[39m\u001B[38;5;241m.\u001B[39mvariables\u001B[38;5;241m.\u001B[39mprod_wind[i, t] \u001B[38;5;28;01mfor\u001B[39;00m i \u001B[38;5;129;01min\u001B[39;00m \u001B[38;5;28mrange\u001B[39m(\u001B[38;5;241m1\u001B[39m, \u001B[38;5;28mlen\u001B[39m(\u001B[38;5;28mself\u001B[39m\u001B[38;5;241m.\u001B[39mdata\u001B[38;5;241m.\u001B[39mwind_forecast\u001B[38;5;241m.\u001B[39miloc[\u001B[38;5;241m0\u001B[39m, :]))) \u001B[38;5;241m==\u001B[39m \n\u001B[1;32m---> 71\u001B[0m         gp\u001B[38;5;241m.\u001B[39mquicksum(\u001B[38;5;28mself\u001B[39m\u001B[38;5;241m.\u001B[39mdata\u001B[38;5;241m.\u001B[39mload\u001B[38;5;241m.\u001B[39miloc[t, i] \u001B[38;5;241m*\u001B[39m \u001B[43mLoad_n\u001B[49m\u001B[43m[\u001B[49m\u001B[43mi\u001B[49m\u001B[38;5;241;43m-\u001B[39;49m\u001B[38;5;241;43m1\u001B[39;49m\u001B[43m,\u001B[49m\u001B[43m \u001B[49m\u001B[43mn\u001B[49m\u001B[38;5;241;43m-\u001B[39;49m\u001B[38;5;241;43m1\u001B[39;49m\u001B[43m]\u001B[49m \u001B[38;5;241m+\u001B[39m \u001B[38;5;28mself\u001B[39m\u001B[38;5;241m.\u001B[39mvariables\u001B[38;5;241m.\u001B[39mepsilon[n, t] \u001B[38;5;241m-\u001B[39m \u001B[38;5;28mself\u001B[39m\u001B[38;5;241m.\u001B[39mvariables\u001B[38;5;241m.\u001B[39mdelta[n, t] \n\u001B[0;32m     72\u001B[0m             \u001B[38;5;28;01mfor\u001B[39;00m i \u001B[38;5;129;01min\u001B[39;00m \u001B[38;5;28mrange\u001B[39m(\u001B[38;5;241m1\u001B[39m, \u001B[38;5;28mlen\u001B[39m(\u001B[38;5;28mself\u001B[39m\u001B[38;5;241m.\u001B[39mdata\u001B[38;5;241m.\u001B[39mload\u001B[38;5;241m.\u001B[39miloc[\u001B[38;5;241m0\u001B[39m, :]))\n\u001B[0;32m     73\u001B[0m             \u001B[38;5;28;01mfor\u001B[39;00m n \u001B[38;5;129;01min\u001B[39;00m \u001B[38;5;28mrange\u001B[39m(\u001B[38;5;241m1\u001B[39m, \u001B[38;5;28mlen\u001B[39m(\u001B[38;5;28mself\u001B[39m\u001B[38;5;241m.\u001B[39mdata\u001B[38;5;241m.\u001B[39mbus\u001B[38;5;241m.\u001B[39miloc[\u001B[38;5;241m0\u001B[39m,:])\u001B[38;5;241m+\u001B[39m\u001B[38;5;241m1\u001B[39m))\n\u001B[0;32m     74\u001B[0m     ) \u001B[38;5;28;01mfor\u001B[39;00m t \u001B[38;5;129;01min\u001B[39;00m \u001B[38;5;28mself\u001B[39m\u001B[38;5;241m.\u001B[39mdata\u001B[38;5;241m.\u001B[39mtime}\n\u001B[0;32m     76\u001B[0m \u001B[38;5;66;03m# Transmission capacity constraint\u001B[39;00m\n\u001B[0;32m     77\u001B[0m \u001B[38;5;28mself\u001B[39m\u001B[38;5;241m.\u001B[39mconstraints\u001B[38;5;241m.\u001B[39mtransmission_capacity_up \u001B[38;5;241m=\u001B[39m {\n\u001B[0;32m     78\u001B[0m         (l, t): \u001B[38;5;28mself\u001B[39m\u001B[38;5;241m.\u001B[39mmodel\u001B[38;5;241m.\u001B[39maddConstr(\n\u001B[0;32m     79\u001B[0m             gp\u001B[38;5;241m.\u001B[39mquicksum(\u001B[38;5;28mself\u001B[39m\u001B[38;5;241m.\u001B[39mdata\u001B[38;5;241m.\u001B[39mbus\u001B[38;5;241m.\u001B[39miloc[l\u001B[38;5;241m-\u001B[39m\u001B[38;5;241m1\u001B[39m, n\u001B[38;5;241m-\u001B[39m\u001B[38;5;241m1\u001B[39m] \u001B[38;5;241m*\u001B[39m\n\u001B[1;32m   (...)\u001B[0m\n\u001B[0;32m     85\u001B[0m         ) \u001B[38;5;28;01mfor\u001B[39;00m l \u001B[38;5;129;01min\u001B[39;00m \u001B[38;5;28mrange\u001B[39m(\u001B[38;5;241m1\u001B[39m, \u001B[38;5;28mlen\u001B[39m(\u001B[38;5;28mself\u001B[39m\u001B[38;5;241m.\u001B[39mdata\u001B[38;5;241m.\u001B[39mtransmission_cap)\u001B[38;5;241m+\u001B[39m\u001B[38;5;241m1\u001B[39m)\n\u001B[0;32m     86\u001B[0m         \u001B[38;5;28;01mfor\u001B[39;00m t \u001B[38;5;129;01min\u001B[39;00m \u001B[38;5;28mself\u001B[39m\u001B[38;5;241m.\u001B[39mdata\u001B[38;5;241m.\u001B[39mtime}\n",
      "\u001B[1;31mIndexError\u001B[0m: index 3 is out of bounds for axis 0 with size 3"
     ]
    }
   ],
   "execution_count": 37
  },
  {
   "cell_type": "code",
   "metadata": {},
   "source": [
    "model.results.unit_commitment #to be used for the next steps"
   ],
   "outputs": [],
   "execution_count": null
  },
  {
   "metadata": {},
   "cell_type": "code",
   "source": [
    "# Group the data by 'Sample_Number'\n",
    "grouped_samples = samples.groupby('Sample_Number')\n"
   ],
   "outputs": [],
   "execution_count": null
  },
  {
   "metadata": {},
   "cell_type": "code",
   "source": [
    "for sample_number, group in grouped_samples:\n",
    "    if len(group) != 24:\n",
    "        print(f\"Sample {sample_number} does not have 24 rows. It has {len(group)} rows.\")\n"
   ],
   "outputs": [],
   "execution_count": null
  },
  {
   "metadata": {},
   "cell_type": "code",
   "source": [
    "    # Ensure the number of hours is correct (24 rows for each sample)\n",
    "    if len(wind_forecast_sample) != 24:\n",
    "        print(f\"Sample {sample_number} does not have exactly 24 rows. Found: {len(wind_forecast_sample)}\")\n",
    " "
   ],
   "outputs": [],
   "execution_count": null
  },
  {
   "metadata": {},
   "cell_type": "code",
   "source": [
    "print(f\"Wind Forecast Sample for Sample {sample_number}:\\n{wind_forecast_sample}\")\n",
    "print(f\"Load Sample for Sample {sample_number}:\\n{load_sample}\")\n",
    "print(f\"Status Variables Dimensions: {len(model.variables.status)}\")\n"
   ],
   "outputs": [],
   "execution_count": null
  },
  {
   "metadata": {},
   "cell_type": "code",
   "source": [
    "# Group the data by 'Sample_Number'\n",
    "grouped_samples = samples.groupby('Sample_Number')\n",
    "\n",
    "# Prepare storage for results\n",
    "all_results = []\n",
    "\n",
    "# Iterate over each sample group\n",
    "for sample_number, group in grouped_samples:\n",
    "    print(f\"Processing Sample {sample_number}...\")\n",
    "\n",
    "    # Extract 24-hour data for the current sample\n",
    "    wind_forecast_sample = group[['Hour', 'Wind_W1', 'Wind_W2']].reset_index(drop=True)\n",
    "    load_sample = group[['Hour', 'Load_L1', 'Load_L2', 'Load_L3']].reset_index(drop=True)\n",
    "\n",
    "    # Ensure the number of hours is correct (24 rows for each sample)\n",
    "    if len(wind_forecast_sample) != 24:\n",
    "        print(f\"Sample {sample_number} does not have exactly 24 rows. Found: {len(wind_forecast_sample)}\")\n",
    "        continue\n",
    "\n",
    "    # Create InputData for the current sample\n",
    "    input_data = InputData(\n",
    "        wind_forecast=wind_forecast_sample,\n",
    "        bus=bus,\n",
    "        load=load_sample,\n",
    "        max_prod=max_prod,\n",
    "        min_prod=min_prod,\n",
    "        min_down_time=min_down_time,\n",
    "        min_up_time=min_up_time,\n",
    "        prod_cost=prod_cost,\n",
    "        ramp_rate=ramp_rate,\n",
    "        start_up_cost=start_up_cost,\n",
    "        transmission_cap=transmission_cap\n",
    "    )\n",
    "\n",
    "    # Run the optimization model\n",
    "    model = EconomicDispatch(input_data)\n",
    "    model.optimize()\n",
    "\n",
    "    # Extract results for each hour in the sample\n",
    "    for hour_index in range(len(wind_forecast_sample)):  # Use length of the sample for iteration\n",
    "        try:\n",
    "            result = {\n",
    "                'Sample_Number': sample_number,\n",
    "                'Hour': hour_index + 1,  # Convert 0-based index to 1-based for consistency\n",
    "                'G1_Status': model.variables.status[1, hour_index].x,\n",
    "                'G2_Status': model.variables.status[2, hour_index].x,\n",
    "                'G3_Status': model.variables.status[3, hour_index].x\n",
    "            }\n",
    "            all_results.append(result)\n",
    "        except IndexError as e:\n",
    "            print(f\"Error at Sample {sample_number}, Hour {hour_index + 1}: {e}\")\n",
    "            break  # Stop processing this sample to avoid further errors\n",
    "\n",
    "# Convert all results to a DataFrame\n",
    "results_df = pd.DataFrame(all_results)\n",
    "\n",
    "# Print or save results\n",
    "print(results_df.head())\n"
   ],
   "outputs": [],
   "execution_count": null
  },
  {
   "metadata": {},
   "cell_type": "code",
   "source": [
    "# Combine all results into a DataFrame\n",
    "results_df = pd.DataFrame(all_results)\n",
    "\n",
    "# Display the first few rows of the results\n",
    "print(results_df.head())\n"
   ],
   "outputs": [],
   "execution_count": null
  },
  {
   "metadata": {},
   "cell_type": "code",
   "source": [
    "# Merge results with original samples\n",
    "full_dataset = samples.merge(results_df, on=['Sample_Number', 'Hour'])\n",
    "\n",
    "# Define features and labels\n",
    "features = full_dataset[['Load_L1', 'Load_L2', 'Load_L3', 'Wind_W1', 'Wind_W2']]\n",
    "labels = full_dataset[['G1_Status', 'G2_Status', 'G3_Status']]\n",
    "\n",
    "# Confirm dataset structure\n",
    "print(features.head())\n",
    "print(labels.head())\n"
   ],
   "outputs": [],
   "execution_count": null
  },
  {
   "cell_type": "code",
   "metadata": {},
   "source": "##Classification",
   "outputs": [],
   "execution_count": null
  },
  {
   "metadata": {},
   "cell_type": "code",
   "source": [
    "features = model.results.production[['generation 1', 'generation 2', 'generation 3', \n",
    "                                            'wind generation 1', 'wind generation 2',\n",
    "                                            'load 1', 'load 2', 'load 3']]\n",
    "\n",
    "# Use the unit commitment results as labels\n",
    "labels = model.results.unit_commitment[['G1', 'G2', 'G3']]\n",
    "\n",
    "# Merge features and labels on the 'time' column\n",
    "dataset = pd.concat([features, labels], axis=1)\n",
    "\n",
    "# Separate features (X) and labels (y)\n",
    "X = dataset.drop(columns=['G1', 'G2', 'G3'])\n",
    "y = dataset[['G1', 'G2', 'G3']]\n",
    "\n"
   ],
   "outputs": [],
   "execution_count": null
  },
  {
   "metadata": {},
   "cell_type": "code",
   "source": [
    "from sklearn.model_selection import train_test_split\n",
    "\n",
    "# Split the data\n",
    "X_train, X_temp, y_train, y_temp = train_test_split(X, y, test_size=0.3, random_state=42)\n",
    "X_val, X_test, y_val, y_test = train_test_split(X_temp, y_temp, test_size=0.5, random_state=42)\n",
    "\n",
    "print(f\"Training Set: {X_train.shape}, Validation Set: {X_val.shape}, Test Set: {X_test.shape}\")\n"
   ],
   "outputs": [],
   "execution_count": null
  },
  {
   "metadata": {},
   "cell_type": "code",
   "source": [
    "# Check if units are always ON or OFF\n",
    "print(y_train.mean())  # If mean = 1 or 0, the unit is always ON or OFF\n",
    "\n",
    "# Filter out units that are always ON or OFF\n",
    "units_to_classify = y_train.columns[(y_train.mean() > 0) & (y_train.mean() < 1)]\n",
    "print(f\"Units to classify: {units_to_classify}\")\n"
   ],
   "outputs": [],
   "execution_count": null
  },
  {
   "metadata": {},
   "cell_type": "code",
   "source": "",
   "outputs": [],
   "execution_count": null
  },
  {
   "metadata": {},
   "cell_type": "code",
   "source": "# Linear Classifier",
   "outputs": [],
   "execution_count": null
  },
  {
   "metadata": {},
   "cell_type": "code",
   "source": [
    "from sklearn.linear_model import LogisticRegression\n",
    "from sklearn.metrics import accuracy_score, classification_report\n",
    "\n",
    "# Define logistic regression models for each generator\n",
    "logistic_models = {}\n",
    "\n",
    "# Loop through each generator in the labels\n",
    "for unit in y.columns:  # e.g., 'G1', 'G2', 'G3'\n",
    "    print(f\"\\nTraining Logistic Regression for {unit}...\")\n",
    "\n",
    "    # Extract training and validation data for this unit\n",
    "    y_train_unit = y_train[unit]\n",
    "    y_val_unit = y_val[unit]\n",
    "\n",
    "    # Initialize and train the logistic regression model\n",
    "    logistic = LogisticRegression(random_state=42)\n",
    "    logistic.fit(X_train, y_train_unit)\n",
    "    logistic_models[unit] = logistic\n",
    "\n",
    "    # Predict on validation set\n",
    "    y_pred_val = logistic.predict(X_val)\n",
    "\n",
    "    # Evaluate performance\n",
    "    accuracy = accuracy_score(y_val_unit, y_pred_val)\n",
    "    print(f\"Validation Accuracy for {unit}: {accuracy}\")\n",
    "    print(classification_report(y_val_unit, y_pred_val))\n",
    "\n"
   ],
   "outputs": [],
   "execution_count": null
  },
  {
   "metadata": {},
   "cell_type": "code",
   "source": "## Non-Linear Classifier",
   "outputs": [],
   "execution_count": null
  },
  {
   "metadata": {},
   "cell_type": "code",
   "source": [
    "from sklearn.svm import SVC\n",
    "from sklearn.metrics import accuracy_score, classification_report\n",
    "\n",
    "# Define SVM models for each generator\n",
    "svm_models = {}\n",
    "\n",
    "# Loop through each generator in the labels\n",
    "for unit in y.columns:  # e.g., 'G1', 'G2', 'G3'\n",
    "    print(f\"\\nTraining SVM (RBF Kernel) for {unit}...\")\n",
    "\n",
    "    # Extract training and validation data for this unit\n",
    "    y_train_unit = y_train[unit]\n",
    "    y_val_unit = y_val[unit]\n",
    "\n",
    "    # Initialize and train the SVM model\n",
    "    svm = SVC(kernel='rbf', random_state=42)\n",
    "    svm.fit(X_train, y_train_unit)\n",
    "    svm_models[unit] = svm\n",
    "\n",
    "    # Predict on validation set\n",
    "    y_pred_val = svm.predict(X_val)\n",
    "\n",
    "    # Evaluate performance\n",
    "    accuracy = accuracy_score(y_val_unit, y_pred_val)\n",
    "    print(f\"Validation Accuracy for {unit}: {accuracy}\")\n",
    "    print(classification_report(y_val_unit, y_pred_v))\n"
   ],
   "outputs": [],
   "execution_count": null
  },
  {
   "metadata": {},
   "cell_type": "code",
   "source": "#Evaluate Models",
   "outputs": [],
   "execution_count": null
  },
  {
   "metadata": {},
   "cell_type": "code",
   "source": [
    "from sklearn.metrics import accuracy_score, classification_report\n",
    "\n",
    "# Evaluate all models on the test set\n",
    "for unit in y_test.columns:  # e.g., 'G1', 'G2', 'G3'\n",
    "    print(f\"\\nEvaluating models for {unit}:\")\n",
    "\n",
    "    # Logistic Regression\n",
    "    logistic_model = logistic_models[unit]  # Retrieve the trained logistic regression model\n",
    "    y_pred_test_logistic = logistic_model.predict(X_test)  # Predict on the test set\n",
    "    print(f\"Logistic Regression Test Accuracy for {unit}: {accuracy_score(y_test[unit], y_pred_test_logistic)}\")\n",
    "    print(classification_report(y_test[unit], y_pred_test_logistic))\n",
    "\n",
    "    # SVM\n",
    "    svm_model = svm_models[unit]  # Retrieve the trained SVM model\n",
    "    y_pred_test_svm = svm_model.predict(X_test)  # Predict on the test set\n",
    "    print(f\"SVM Test Accuracy for {unit}: {accuracy_score(y_test[unit], y_pred_test_svm)}\")\n",
    "    print(classification_report(y_test[unit], y_pred_test_svm))\n",
    "\n"
   ],
   "outputs": [],
   "execution_count": null
  },
  {
   "metadata": {},
   "cell_type": "code",
   "source": "",
   "outputs": [],
   "execution_count": null
  }
 ],
 "metadata": {
  "kernelspec": {
   "display_name": "my_environment",
   "language": "python",
   "name": "python3"
  },
  "language_info": {
   "codemirror_mode": {
    "name": "ipython",
    "version": 3
   },
   "file_extension": ".py",
   "mimetype": "text/x-python",
   "name": "python",
   "nbconvert_exporter": "python",
   "pygments_lexer": "ipython3",
   "version": "3.11.5"
  }
 },
 "nbformat": 4,
 "nbformat_minor": 2
}
