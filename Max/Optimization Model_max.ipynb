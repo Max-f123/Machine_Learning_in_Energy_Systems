{
 "cells": [
  {
   "cell_type": "code",
   "execution_count": 1,
   "metadata": {},
   "outputs": [],
   "source": [
    "#Importing needed packages\n",
    "import gurobipy as gp\n",
    "import pandas as pd\n",
    "from gurobipy import GRB"
   ]
  },
  {
   "cell_type": "code",
   "execution_count": 2,
   "metadata": {},
   "outputs": [
    {
     "name": "stderr",
     "output_type": "stream",
     "text": [
      "/var/folders/j_/mwl680ps3b1czvrppsb_jxgm0000gn/T/ipykernel_58853/4136654533.py:27: SettingWithCopyWarning: \n",
      "A value is trying to be set on a copy of a slice from a DataFrame.\n",
      "Try using .loc[row_indexer,col_indexer] = value instead\n",
      "\n",
      "See the caveats in the documentation: https://pandas.pydata.org/pandas-docs/stable/user_guide/indexing.html#returning-a-view-versus-a-copy\n",
      "  energinet_price['hour'] = energinet_price.index.hour\n"
     ]
    }
   ],
   "source": [
    "# Load the raw data from excel\n",
    "nordpool_price = pd.read_csv('Data/NordPool.csv', delimiter=';')\n",
    "energinet_price = pd.read_csv('Data/Energinet Balance price.csv', delimiter=';')\n",
    "production_forecast = pd.read_csv('Data/Wind Production Forecast.csv')\n",
    "\n",
    "# Filter the Energinet data to only include zone DK2\n",
    "filtered_energinet_price = energinet_price[energinet_price['PriceArea | PriceArea | 804696'] == 'DK2']\n",
    "energinet_price = filtered_energinet_price\n",
    "\n",
    "# Convert the 'ts' column to datetime format for each dataset\n",
    "nordpool_price['ts'] = pd.to_datetime(nordpool_price['ts'], dayfirst=True)\n",
    "energinet_price['ts'] = pd.to_datetime(energinet_price['ts'], dayfirst=True)\n",
    "\n",
    "# Set 'ts' as the index for each DataFrame\n",
    "nordpool_price.set_index('ts', inplace=True)\n",
    "energinet_price.set_index('ts', inplace=True)\n",
    "\n",
    "#Filter out relevant columns for balancing prices list\n",
    "columns_to_keep = ['BalancingPowerPriceUpEUR | BalancingPowerPriceUpEUR | 804718', 'BalancingPowerPriceDownEUR | BalancingPowerPriceDownEUR | 804720'] \n",
    "energinet_price = energinet_price[columns_to_keep]\n",
    "\n",
    "\n"
   ]
  },
  {
   "cell_type": "code",
   "execution_count": 3,
   "metadata": {},
   "outputs": [
    {
     "name": "stderr",
     "output_type": "stream",
     "text": [
      "/var/folders/j_/mwl680ps3b1czvrppsb_jxgm0000gn/T/ipykernel_58853/4083495345.py:5: SettingWithCopyWarning: \n",
      "A value is trying to be set on a copy of a slice from a DataFrame.\n",
      "Try using .loc[row_indexer,col_indexer] = value instead\n",
      "\n",
      "See the caveats in the documentation: https://pandas.pydata.org/pandas-docs/stable/user_guide/indexing.html#returning-a-view-versus-a-copy\n",
      "  energinet_price['hour'] = energinet_price.index.hour\n"
     ]
    }
   ],
   "source": [
    "#Create an average day for day ahead and balancing market\n",
    "nordpool_price['hour'] = nordpool_price.index.hour\n",
    "average_nordpool = nordpool_price.groupby('hour').mean()\n",
    "\n",
    "energinet_price['hour'] = energinet_price.index.hour\n",
    "average_energienet = energinet_price.groupby('hour').mean()"
   ]
  },
  {
   "cell_type": "code",
   "execution_count": 12,
   "metadata": {},
   "outputs": [
    {
     "name": "stdout",
     "output_type": "stream",
     "text": [
      "      Nordpool Elspot Prices - hourly price DK-DK2 EUR/MWh | 9F7J/00/00/Nordpool/DK2/hourly_spot_eur | 3038  \\\n",
      "hour                                                                                                          \n",
      "0                                             72.312000                                                       \n",
      "1                                             67.396667                                                       \n",
      "2                                             67.323667                                                       \n",
      "3                                             65.062000                                                       \n",
      "4                                             68.231000                                                       \n",
      "5                                             72.960000                                                       \n",
      "6                                             91.893000                                                       \n",
      "7                                            113.121667                                                       \n",
      "8                                            126.303333                                                       \n",
      "9                                            128.425667                                                       \n",
      "10                                           124.397000                                                       \n",
      "11                                           121.281333                                                       \n",
      "12                                           116.351333                                                       \n",
      "13                                           113.065667                                                       \n",
      "14                                           113.880667                                                       \n",
      "15                                           117.880667                                                       \n",
      "16                                           125.983000                                                       \n",
      "17                                           136.282333                                                       \n",
      "18                                           131.664333                                                       \n",
      "19                                           117.418000                                                       \n",
      "20                                           107.000667                                                       \n",
      "21                                            98.119333                                                       \n",
      "22                                            87.278667                                                       \n",
      "23                                            75.762333                                                       \n",
      "\n",
      "      Nordpool Elspot Prices - hourly price DK-DK2 DKK/MWh | 9F7J/00/00/Nordpool/DK2/hourly_spot_dkk | 4820  \n",
      "hour                                                                                                         \n",
      "0                                            537.875667                                                      \n",
      "1                                            501.317000                                                      \n",
      "2                                            500.773333                                                      \n",
      "3                                            483.952000                                                      \n",
      "4                                            507.521333                                                      \n",
      "5                                            542.694000                                                      \n",
      "6                                            683.515667                                                      \n",
      "7                                            841.415667                                                      \n",
      "8                                            939.466667                                                      \n",
      "9                                            955.255333                                                      \n",
      "10                                           925.287667                                                      \n",
      "11                                           902.108000                                                      \n",
      "12                                           865.438333                                                      \n",
      "13                                           840.998333                                                      \n",
      "14                                           847.063333                                                      \n",
      "15                                           876.815667                                                      \n",
      "16                                           937.080000                                                      \n",
      "17                                          1013.686333                                                      \n",
      "18                                           979.337333                                                      \n",
      "19                                           873.375667                                                      \n",
      "20                                           795.890000                                                      \n",
      "21                                           729.828333                                                      \n",
      "22                                           649.195333                                                      \n",
      "23                                           563.536000                                                      \n",
      "      BalancingPowerPriceUpEUR | BalancingPowerPriceUpEUR | 804718  \\\n",
      "hour                                                                 \n",
      "0                                             79.255807              \n",
      "1                                             84.591613              \n",
      "2                                             74.953226              \n",
      "3                                             73.618387              \n",
      "4                                             75.184838              \n",
      "5                                             98.464838              \n",
      "6                                            134.703226              \n",
      "7                                            131.502904              \n",
      "8                                            138.458710              \n",
      "9                                            154.515805              \n",
      "10                                           139.655808              \n",
      "11                                           144.469677              \n",
      "12                                           144.391290              \n",
      "13                                           144.421289              \n",
      "14                                           140.676774              \n",
      "15                                           137.311613              \n",
      "16                                           175.316774              \n",
      "17                                           169.835484              \n",
      "18                                           133.437742              \n",
      "19                                           117.126775              \n",
      "20                                           109.521612              \n",
      "21                                           106.486452              \n",
      "22                                            92.904839              \n",
      "23                                            93.836129              \n",
      "\n",
      "      BalancingPowerPriceDownEUR | BalancingPowerPriceDownEUR | 804720  \n",
      "hour                                                                    \n",
      "0                                             60.028387                 \n",
      "1                                             59.663871                 \n",
      "2                                             56.568710                 \n",
      "3                                             59.558065                 \n",
      "4                                             60.861613                 \n",
      "5                                             76.071290                 \n",
      "6                                            100.520000                 \n",
      "7                                            117.256129                 \n",
      "8                                            113.616775                 \n",
      "9                                            113.588387                 \n",
      "10                                           105.519356                 \n",
      "11                                           101.799032                 \n",
      "12                                            97.676129                 \n",
      "13                                           101.807420                 \n",
      "14                                           105.216129                 \n",
      "15                                           114.675484                 \n",
      "16                                           124.890968                 \n",
      "17                                           117.519032                 \n",
      "18                                           111.544839                 \n",
      "19                                            99.088710                 \n",
      "20                                            89.497419                 \n",
      "21                                            78.849355                 \n",
      "22                                            66.409678                 \n",
      "23                                            67.226774                 \n"
     ]
    }
   ],
   "source": [
    "# Print average_nordpool and average_energienet\n",
    "print(average_nordpool)\n",
    "print(average_energienet)"
   ]
  },
  {
   "cell_type": "code",
   "execution_count": 5,
   "metadata": {},
   "outputs": [],
   "source": [
    "Number_of_Hours = 24\n",
    "NamePlate_Capacity = 100"
   ]
  },
  {
   "cell_type": "code",
   "execution_count": 6,
   "metadata": {},
   "outputs": [
    {
     "name": "stdout",
     "output_type": "stream",
     "text": [
      "Set parameter Username\n",
      "Academic license - for non-commercial use only - expires 2025-09-24\n"
     ]
    }
   ],
   "source": [
    "#Defining the gurobi model\n",
    "\n",
    "model = gp.Model(\"Wind Power Optimization\")\n",
    "\n",
    "#Defining the variables\n",
    "\n",
    "#Variable for the energy that is bid in the day ahead market\n",
    "DA_Bid = model.addVars(Number_of_Hours, vtype=GRB.CONTINUOUS, name=\"DA_Bid\")\n",
    "\n",
    "#Variable if the production was actually higher than what was bid on the day ahead market, this number will be sold on the balancing market\n",
    "Balance_Up = model.addVars(Number_of_Hours, vtype=GRB.CONTINUOUS, name=\"Balance_Up\")\n",
    "\n",
    "#Variable if the production was actually lower than what was bid on the day ahead market, this deficit will be purchased on the balancing market\n",
    "Balance_Down = model.addVars(Number_of_Hours, vtype=GRB.CONTINUOUS, name=\"Balance_Down\")\n",
    "\n",
    "#Variable that describes the delta between day ahead bid and actual production\n",
    "Delta = model.addVars(Number_of_Hours, vtype=GRB.CONTINUOUS,lb=-GRB.INFINITY, name=\"Delta\")\n",
    "\n",
    "#Defining objective function\n",
    "objective = (\n",
    "    gp.quicksum(average_nordpool.loc[h, 'Nordpool Elspot Prices - hourly price DK-DK2 EUR/MWh | 9F7J/00/00/Nordpool/DK2/hourly_spot_eur | 3038'] * DA_Bid[h] for h in range(Number_of_Hours))\n",
    "    + gp.quicksum(average_energienet.loc[h, 'BalancingPowerPriceDownEUR | BalancingPowerPriceDownEUR | 804720'] * Balance_Up[h] for h in range(Number_of_Hours))\n",
    "    - gp.quicksum(average_energienet.loc[h, 'BalancingPowerPriceUpEUR | BalancingPowerPriceUpEUR | 804718'] * Balance_Down[h] for h in range(Number_of_Hours))\n",
    ")\n",
    "model.setObjective(objective, GRB.MAXIMIZE)\n",
    "\n",
    "\n",
    "for t in range(Number_of_Hours):\n",
    "    #Adding Constraint that defines delta as the difference between the day ahead bid and the actual power production. Delta is positive for overproduction, negative for underproduction\n",
    "    model.addConstr(Delta[t] == production_forecast.loc[t,'Wind Production [MW]'] - DA_Bid[t], name=f\"Defining Delta_{t}\")\n",
    "    #Adding constraint that defines the value for balance_up/down\n",
    "    model.addConstr(Delta[t] == Balance_Up[t] - Balance_Down[t] , name=f\"Defining Delta Up/Down_{t}\")\n",
    "    #Constraint that makes sure, that bid can´t be higher than the maximum capacity of the wind farm\n",
    "    model.addConstr( DA_Bid[t] <= NamePlate_Capacity, name=f\"Production Capacity_{t}\")"
   ]
  },
  {
   "cell_type": "code",
   "execution_count": 11,
   "metadata": {},
   "outputs": [
    {
     "name": "stdout",
     "output_type": "stream",
     "text": [
      "Gurobi Optimizer version 11.0.3 build v11.0.3rc0 (mac64[x86] - Darwin 21.6.0 21H1320)\n",
      "\n",
      "CPU model: Intel(R) Core(TM) i5-5350U CPU @ 1.80GHz\n",
      "Thread count: 2 physical cores, 4 logical processors, using up to 4 threads\n",
      "\n",
      "Optimize a model with 72 rows, 96 columns and 144 nonzeros\n",
      "Coefficient statistics:\n",
      "  Matrix range     [1e+00, 1e+00]\n",
      "  Objective range  [6e+01, 2e+02]\n",
      "  Bounds range     [0e+00, 0e+00]\n",
      "  RHS range        [2e+01, 1e+02]\n",
      "\n",
      "Solved in 0 iterations and 0.03 seconds (0.00 work units)\n",
      "Optimal objective  1.385503456e+05\n",
      "Optimal solution found.\n",
      "Total Revenue:  138550.3455998172\n"
     ]
    }
   ],
   "source": [
    "model.optimize()\n",
    "\n",
    "\n",
    "# # Check optimization result\n",
    "if model.status == GRB.INFEASIBLE:\n",
    "    print(\"Model is infeasible.\")\n",
    "elif model.status == GRB.UNBOUNDED:\n",
    "    print(\"Model is unbounded.\")\n",
    "elif model.status == GRB.TIME_LIMIT:\n",
    "    print(\"Time limit reached.\")\n",
    "elif model.status == GRB.OPTIMAL:\n",
    "    print(\"Optimal solution found.\")\n",
    "    TotalRevenue = model.objVal\n",
    "    print(\"Total Revenue: \", TotalRevenue)\n",
    "    #Save results in data frame\n",
    "\n",
    "    results = {\n",
    "        'DA_Bid': [DA_Bid[t].X for t in range(Number_of_Hours)],\n",
    "        'Wind_Production_forecast': [production_forecast.loc[t,'Wind Production [MW]'] for t in range(Number_of_Hours)],\n",
    "        'Balance_Up': [Balance_Up[t].X for t in range(Number_of_Hours)],\n",
    "        'Balance_Down': [Balance_Down[t].X for t in range(Number_of_Hours)],\n",
    "        'Delta': [Delta[t].X for t in range(Number_of_Hours)]\n",
    "    }"
   ]
  },
  {
   "cell_type": "code",
   "execution_count": 10,
   "metadata": {},
   "outputs": [
    {
     "name": "stdout",
     "output_type": "stream",
     "text": [
      "    DA_Bid  Wind_Production  Balance_Up  Balance_Down  Delta\n",
      "0    100.0              100         0.0           0.0    0.0\n",
      "1     56.0               56         0.0           0.0    0.0\n",
      "2     34.0               34         0.0           0.0    0.0\n",
      "3     87.0               87         0.0           0.0    0.0\n",
      "4     45.0               45         0.0           0.0    0.0\n",
      "5      0.0               86        86.0           0.0   86.0\n",
      "6      0.0               45        45.0           0.0   45.0\n",
      "7      0.0               85        85.0           0.0   85.0\n",
      "8     23.0               23         0.0           0.0    0.0\n",
      "9     86.0               86         0.0           0.0    0.0\n",
      "10    54.0               54         0.0           0.0    0.0\n",
      "11    22.0               22         0.0           0.0    0.0\n",
      "12    75.0               75         0.0           0.0    0.0\n",
      "13    93.0               93         0.0           0.0    0.0\n",
      "14    44.0               44         0.0           0.0    0.0\n",
      "15    64.0               64         0.0           0.0    0.0\n",
      "16    33.0               33         0.0           0.0    0.0\n",
      "17    64.0               64         0.0           0.0    0.0\n",
      "18    34.0               34         0.0           0.0    0.0\n",
      "19   100.0               63         0.0          37.0  -37.0\n",
      "20    23.0               23         0.0           0.0    0.0\n",
      "21    64.0               64         0.0           0.0    0.0\n",
      "22    23.0               23         0.0           0.0    0.0\n",
      "23    64.0               64         0.0           0.0    0.0\n"
     ]
    }
   ],
   "source": [
    "# Create a DataFrame from the dictionary\n",
    "results_df = pd.DataFrame(results)\n",
    "\n",
    "# Display the DataFrame\n",
    "print(results_df)\n"
   ]
  }
 ],
 "metadata": {
  "kernelspec": {
   "display_name": "my_environment",
   "language": "python",
   "name": "python3"
  },
  "language_info": {
   "codemirror_mode": {
    "name": "ipython",
    "version": 3
   },
   "file_extension": ".py",
   "mimetype": "text/x-python",
   "name": "python",
   "nbconvert_exporter": "python",
   "pygments_lexer": "ipython3",
   "version": "3.11.5"
  }
 },
 "nbformat": 4,
 "nbformat_minor": 2
}
